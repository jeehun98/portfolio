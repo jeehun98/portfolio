{
  "nbformat": 4,
  "nbformat_minor": 0,
  "metadata": {
    "colab": {
      "provenance": []
    },
    "kernelspec": {
      "name": "python3",
      "display_name": "Python 3"
    },
    "language_info": {
      "name": "python"
    }
  },
  "cells": [
    {
      "cell_type": "code",
      "execution_count": null,
      "metadata": {
        "id": "SknpN9ZVHWeA"
      },
      "outputs": [],
      "source": [
        "import numpy as np"
      ]
    },
    {
      "cell_type": "code",
      "source": [
        "class LinearRegression:\n",
        "  w = []\n",
        "  \n",
        "  def calNormalEquation(self, input, target):\n",
        "    \"\"\"\n",
        "    선형 회귀를 위한 정규 방정식 함수 \n",
        "    Args\n",
        "      input : 입력 데이터\n",
        "      target : 타겟 데이터\n",
        "    \"\"\"\n",
        "    # 입력 데이터의 마지막 열의 원소 1의 추가\n",
        "    input_b = np.c_[input, np.ones((input.shape[0], 1))]\n",
        "\n",
        "    # 정규방정식을 통한 w 의 계산\n",
        "    self.w = np.linalg.inv(input_b.T.dot(input_b)).dot(input_b.T).dot(y)\n",
        "\n",
        "  def predict(self, input):\n",
        "    \"\"\"\n",
        "    예측함수\n",
        "    Arg\n",
        "      input : 입력 데이터\n",
        "    Return\n",
        "      predict : 예측값\n",
        "    \"\"\"\n",
        "    # 입력 데이터의 마지막 열의 원소 1의 추가\n",
        "    input_b = np.c_[input, np.ones((input.shape[0], 1))]\n",
        "\n",
        "    return input_b.dot(self.w)\n",
        "\n",
        "  def calPseudoinverse(self, input, target)\n",
        "    \"\"\"\n",
        "    유사 역행렬을 통한 계산\n",
        "    Arg\n",
        "      input : 입력 데이터\n",
        "    \"\"\"\n",
        "    # 입력 데이터의 마지막 열의 원소 1의 추가\n",
        "    input_b = np.c_[input, np.ones((input.shape[0], 1))]\n",
        "\n",
        "    self.w = np.linalg.pinv(input_b).dot(target)\n",
        "\n"
      ],
      "metadata": {
        "id": "_bycxlWnHcdy"
      },
      "execution_count": null,
      "outputs": []
    }
  ]
}